{
 "cells": [
  {
   "cell_type": "markdown",
   "metadata": {},
   "source": [
    "Downloading BAMOSZ data for longer period than a year ...\n",
    "First let's get the cookies and the faces viewstate value for the main page..."
   ]
  },
  {
   "cell_type": "code",
   "execution_count": 32,
   "metadata": {},
   "outputs": [
    {
     "name": "stdout",
     "output_type": "stream",
     "text": [
      "Cookies:GUEST_LANGUAGE_ID=hu_HU;COOKIE_SUPPORT=true;JSESSIONID=FB629FC2AD06065CDD886740FFE1996A;\n",
      "ViewState of the main page is:-374421918232145627:1058567804940207221\n"
     ]
    }
   ],
   "source": [
    "import requests\n",
    "from bs4 import BeautifulSoup\n",
    "import urllib\n",
    "\n",
    "base_url=\"http://www.bamosz.hu/alapoldal?isin=\"\n",
    "ISIN=\"HU0000706379\"\n",
    "session = requests.session()\n",
    "r=session.get(base_url+ISIN)\n",
    "soup=BeautifulSoup(r.content,\"html.parser\")\n",
    "vs=soup.select(\"input#javax.faces.ViewState\")[0][\"value\"]\n",
    "cookie=\"\"\n",
    "for k, v in requests.utils.dict_from_cookiejar(r.cookies).iteritems():\n",
    "    cookie= cookie+ k +\"=\"+ v+\";\"\n",
    "print \"Cookies:\" + cookie\n",
    "print \"ViewState of the main page is:\" + vs\n"
   ]
  },
  {
   "cell_type": "markdown",
   "metadata": {},
   "source": [
    "Now let's retrieve the 10 years history with an ajax call..."
   ]
  },
  {
   "cell_type": "code",
   "execution_count": 33,
   "metadata": {
    "scrolled": true
   },
   "outputs": [
    {
     "name": "stderr",
     "output_type": "stream",
     "text": [
      "IOPub data rate exceeded.\n",
      "The notebook server will temporarily stop sending output\n",
      "to the client in order to avoid crashing it.\n",
      "To change this limit, set the config variable\n",
      "`--NotebookApp.iopub_data_rate_limit`.\n",
      "\n",
      "Current values:\n",
      "NotebookApp.iopub_data_rate_limit=1000000.0 (bytes/sec)\n",
      "NotebookApp.rate_limit_window=3.0 (secs)\n",
      "\n"
     ]
    }
   ],
   "source": [
    "url = \"http://www.bamosz.hu/web/guest/alapoldal\"\n",
    "querystring = {\"_bamoszpublicalapoldal_WAR_bamoszpublicalapoldalportlet_INSTANCE_N4Uk__facesViewId\":\"/view.xhtml\",\"p_p_col_count\":\"1\",\"p_p_col_id\":\"column-1\",\"p_p_id\":\"bamoszpublicalapoldal_WAR_bamoszpublicalapoldalportlet_INSTANCE_N4Uk\",\"p_p_lifecycle\":\"2\",\"p_p_mode\":\"view\",\"p_p_state\":\"normal\"}\n",
    "payload = (\n",
    "    ('A3225%3Aj_idt7','A3225%3Aj_idt7'),\n",
    "    ('javax.faces.encodedURL','http%3A%2F%2Fwww.bamosz.hu%2Fweb%2Fguest%2Falapoldal%3F_bamoszpublicalapoldal_WAR_bamoszpublicalapoldalportlet_INSTANCE_N4Uk__facesViewId%3D%252Fview.xhtml%26p_p_col_count%3D1%26p_p_col_id%3Dcolumn-1%26p_p_id%3Dbamoszpublicalapoldal_WAR_bamoszpublicalapoldalportlet_INSTANCE_N4Uk%26p_p_lifecycle%3D2%26p_p_mode%3Dview%26p_p_state%3Dnormal'),\n",
    "    ('A3225%3Aj_idt7%3Aj_idt8',''),\n",
    "    ('A3225%3Aj_idt7%3AstartDate_input','2017.03.12'),\n",
    "    ('A3225%3Aj_idt7%3AendDate_input','2018.03.12'),\n",
    "    ('A3225%3Aj_idt7%3AchartDataCaption','%C3%81rfolyam'),\n",
    "    ('A3225%3Aj_idt7%3AchartType','arfolyam'),\n",
    "    ('A3225%3Aj_idt7%3Aj_idt267_input','vesszo'),\n",
    "    ('javax.faces.ViewState',vs),\n",
    "    ('javax.faces.partial.ajax','true'),\n",
    "    ('javax.faces.source','A3225:j_idt7:j_idt238'),\n",
    "    ('javax.faces.partial.execute','@all'),\n",
    "    ('javax.faces.partial.render','A3225:j_idt7:grafikon A3225:j_idt7:fundDataTable A3225:j_idt7:startDate'),\n",
    "    ('A3225:j_idt7:j_idt238','A3225:j_idt7:j_idt238'),\n",
    "    ('interval','10Y'),\n",
    ")\n",
    "p=''\n",
    "for t in payload:\n",
    "    p=p+t[0]+\"=\"+t[1]+\"&\"\n",
    "\n",
    "headers = {\n",
    "    'origin': \"http://www.bamosz.hu\",\n",
    "    'user-agent': \"Mozilla/5.0 (Windows NT 6.1; Win64; x64) AppleWebKit/537.36 (KHTML, like Gecko) Chrome/64.0.3282.186 Safari/537.36\",\n",
    "    'content-type': \"application/x-www-form-urlencoded\",\n",
    "    'accept': \"application/xml, text/xml, */*; q=0.01\",\n",
    "    'faces-request': \"partial/ajax\",\n",
    "    'x-devtools-emulate-network-conditions-client-id': \"(7DA15FA3F5708CF2C49731792D975E3B)\",\n",
    "    'x-requested-with': \"XMLHttpRequest\",\n",
    "    'referer': base_url+ISIN,\n",
    "    'accept-encoding': \"gzip, deflate\",\n",
    "    'accept-language': \"en-US,en;q=0.9,hu;q=0.8\",\n",
    "    'cookie': cookie,\n",
    "    'cache-control': \"no-cache\"\n",
    "    }\n",
    "\n",
    "response = session.request(\"POST\", url, data=p, headers=headers, params=querystring)\n",
    "\n",
    "print(response.text)"
   ]
  },
  {
   "cell_type": "code",
   "execution_count": null,
   "metadata": {},
   "outputs": [],
   "source": []
  }
 ],
 "metadata": {
  "kernelspec": {
   "display_name": "Python 2",
   "language": "python",
   "name": "python2"
  },
  "language_info": {
   "codemirror_mode": {
    "name": "ipython",
    "version": 2
   },
   "file_extension": ".py",
   "mimetype": "text/x-python",
   "name": "python",
   "nbconvert_exporter": "python",
   "pygments_lexer": "ipython2",
   "version": "2.7.13"
  }
 },
 "nbformat": 4,
 "nbformat_minor": 2
}
